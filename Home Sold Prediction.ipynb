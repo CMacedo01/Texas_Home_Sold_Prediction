{
 "cells": [
  {
   "cell_type": "code",
   "execution_count": 2,
   "id": "ebd2f563",
   "metadata": {},
   "outputs": [],
   "source": [
    "import pandas as pd\n",
    "import numpy as np\n",
    "from matplotlib import pyplot as plt\n",
    "%matplotlib inline\n",
    "import matplotlib\n",
    "matplotlib.rcParams[\"figure.figsize\"] = (20,10)"
   ]
  },
  {
   "cell_type": "code",
   "execution_count": 3,
   "id": "6288b67a",
   "metadata": {
    "scrolled": true
   },
   "outputs": [
    {
     "data": {
      "text/plain": [
       "(21524, 102)"
      ]
     },
     "execution_count": 3,
     "metadata": {},
     "output_type": "execute_result"
    }
   ],
   "source": [
    "df1 = pd.read_csv(\"tx.csv\")\n",
    "df1.shape"
   ]
  },
  {
   "cell_type": "code",
   "execution_count": 4,
   "id": "230d2252",
   "metadata": {},
   "outputs": [],
   "source": [
    "#df1.groupby('area_type')['area_type'].agg('count')"
   ]
  },
  {
   "cell_type": "code",
   "execution_count": 5,
   "id": "3938fd87",
   "metadata": {},
   "outputs": [
    {
     "data": {
      "text/plain": [
       "region_name                 0\n",
       "period_end                  0\n",
       "total_homes_sold         2448\n",
       "median_sale_price        2448\n",
       "median_sale_ppsf         2459\n",
       "total_active_listings       0\n",
       "inventory_yoy             126\n",
       "dtype: int64"
      ]
     },
     "execution_count": 5,
     "metadata": {},
     "output_type": "execute_result"
    }
   ],
   "source": [
    "df2 = df1[['region_name','period_end','total_homes_sold','median_sale_price','median_sale_ppsf','total_active_listings','inventory_yoy']]\n",
    "df2.shape\n",
    "df2.isnull().sum()"
   ]
  },
  {
   "cell_type": "code",
   "execution_count": 6,
   "id": "96c2ba8e",
   "metadata": {},
   "outputs": [],
   "source": [
    "#df2['average_homes_sold_with_price_drops_yoy'].fillna(value=0)"
   ]
  },
  {
   "cell_type": "code",
   "execution_count": 7,
   "id": "f80c3409",
   "metadata": {},
   "outputs": [
    {
     "data": {
      "text/plain": [
       "(19056, 7)"
      ]
     },
     "execution_count": 7,
     "metadata": {},
     "output_type": "execute_result"
    }
   ],
   "source": [
    "df3 = df2.dropna()\n",
    "df3.shape"
   ]
  },
  {
   "cell_type": "code",
   "execution_count": 8,
   "id": "3af1d727",
   "metadata": {
    "scrolled": true
   },
   "outputs": [
    {
     "data": {
      "text/html": [
       "<div>\n",
       "<style scoped>\n",
       "    .dataframe tbody tr th:only-of-type {\n",
       "        vertical-align: middle;\n",
       "    }\n",
       "\n",
       "    .dataframe tbody tr th {\n",
       "        vertical-align: top;\n",
       "    }\n",
       "\n",
       "    .dataframe thead th {\n",
       "        text-align: right;\n",
       "    }\n",
       "</style>\n",
       "<table border=\"1\" class=\"dataframe\">\n",
       "  <thead>\n",
       "    <tr style=\"text-align: right;\">\n",
       "      <th></th>\n",
       "      <th>region_name</th>\n",
       "      <th>period_end</th>\n",
       "      <th>total_homes_sold</th>\n",
       "      <th>median_sale_price</th>\n",
       "      <th>median_sale_ppsf</th>\n",
       "      <th>total_active_listings</th>\n",
       "      <th>inventory_yoy</th>\n",
       "    </tr>\n",
       "  </thead>\n",
       "  <tbody>\n",
       "    <tr>\n",
       "      <th>1</th>\n",
       "      <td>Crane County, TX</td>\n",
       "      <td>2022-08-21</td>\n",
       "      <td>3.0</td>\n",
       "      <td>133000.0</td>\n",
       "      <td>108.488264</td>\n",
       "      <td>183</td>\n",
       "      <td>0.400000</td>\n",
       "    </tr>\n",
       "    <tr>\n",
       "      <th>4</th>\n",
       "      <td>Falls County, TX</td>\n",
       "      <td>2022-08-21</td>\n",
       "      <td>19.0</td>\n",
       "      <td>180457.1</td>\n",
       "      <td>96.386478</td>\n",
       "      <td>365</td>\n",
       "      <td>0.038462</td>\n",
       "    </tr>\n",
       "    <tr>\n",
       "      <th>5</th>\n",
       "      <td>Falls County, TX</td>\n",
       "      <td>2022-08-21</td>\n",
       "      <td>7.0</td>\n",
       "      <td>112500.0</td>\n",
       "      <td>73.653394</td>\n",
       "      <td>110</td>\n",
       "      <td>-0.076923</td>\n",
       "    </tr>\n",
       "    <tr>\n",
       "      <th>6</th>\n",
       "      <td>Hopkins County, TX</td>\n",
       "      <td>2022-08-21</td>\n",
       "      <td>10.0</td>\n",
       "      <td>254750.0</td>\n",
       "      <td>144.332102</td>\n",
       "      <td>103</td>\n",
       "      <td>0.476190</td>\n",
       "    </tr>\n",
       "    <tr>\n",
       "      <th>7</th>\n",
       "      <td>Hopkins County, TX</td>\n",
       "      <td>2022-08-21</td>\n",
       "      <td>100.0</td>\n",
       "      <td>267812.5</td>\n",
       "      <td>151.656755</td>\n",
       "      <td>1132</td>\n",
       "      <td>0.349206</td>\n",
       "    </tr>\n",
       "    <tr>\n",
       "      <th>8</th>\n",
       "      <td>Hopkins County, TX</td>\n",
       "      <td>2022-08-21</td>\n",
       "      <td>40.0</td>\n",
       "      <td>268812.5</td>\n",
       "      <td>150.023428</td>\n",
       "      <td>411</td>\n",
       "      <td>0.388060</td>\n",
       "    </tr>\n",
       "    <tr>\n",
       "      <th>9</th>\n",
       "      <td>Williamson County, TX</td>\n",
       "      <td>2022-08-21</td>\n",
       "      <td>181.0</td>\n",
       "      <td>469000.0</td>\n",
       "      <td>242.624535</td>\n",
       "      <td>4240</td>\n",
       "      <td>0.958190</td>\n",
       "    </tr>\n",
       "    <tr>\n",
       "      <th>10</th>\n",
       "      <td>Williamson County, TX</td>\n",
       "      <td>2022-08-21</td>\n",
       "      <td>2824.0</td>\n",
       "      <td>496035.1</td>\n",
       "      <td>248.478791</td>\n",
       "      <td>44262</td>\n",
       "      <td>0.915179</td>\n",
       "    </tr>\n",
       "    <tr>\n",
       "      <th>11</th>\n",
       "      <td>Williamson County, TX</td>\n",
       "      <td>2022-08-21</td>\n",
       "      <td>871.0</td>\n",
       "      <td>490223.7</td>\n",
       "      <td>242.965810</td>\n",
       "      <td>16675</td>\n",
       "      <td>0.974735</td>\n",
       "    </tr>\n",
       "    <tr>\n",
       "      <th>12</th>\n",
       "      <td>Bowie County, TX</td>\n",
       "      <td>2022-08-28</td>\n",
       "      <td>21.0</td>\n",
       "      <td>195000.0</td>\n",
       "      <td>104.074242</td>\n",
       "      <td>251</td>\n",
       "      <td>0.100478</td>\n",
       "    </tr>\n",
       "  </tbody>\n",
       "</table>\n",
       "</div>"
      ],
      "text/plain": [
       "              region_name  period_end  total_homes_sold  median_sale_price  \\\n",
       "1        Crane County, TX  2022-08-21               3.0           133000.0   \n",
       "4        Falls County, TX  2022-08-21              19.0           180457.1   \n",
       "5        Falls County, TX  2022-08-21               7.0           112500.0   \n",
       "6      Hopkins County, TX  2022-08-21              10.0           254750.0   \n",
       "7      Hopkins County, TX  2022-08-21             100.0           267812.5   \n",
       "8      Hopkins County, TX  2022-08-21              40.0           268812.5   \n",
       "9   Williamson County, TX  2022-08-21             181.0           469000.0   \n",
       "10  Williamson County, TX  2022-08-21            2824.0           496035.1   \n",
       "11  Williamson County, TX  2022-08-21             871.0           490223.7   \n",
       "12       Bowie County, TX  2022-08-28              21.0           195000.0   \n",
       "\n",
       "    median_sale_ppsf  total_active_listings  inventory_yoy  \n",
       "1         108.488264                    183       0.400000  \n",
       "4          96.386478                    365       0.038462  \n",
       "5          73.653394                    110      -0.076923  \n",
       "6         144.332102                    103       0.476190  \n",
       "7         151.656755                   1132       0.349206  \n",
       "8         150.023428                    411       0.388060  \n",
       "9         242.624535                   4240       0.958190  \n",
       "10        248.478791                  44262       0.915179  \n",
       "11        242.965810                  16675       0.974735  \n",
       "12        104.074242                    251       0.100478  "
      ]
     },
     "execution_count": 8,
     "metadata": {},
     "output_type": "execute_result"
    }
   ],
   "source": [
    "df3.head(10)"
   ]
  },
  {
   "cell_type": "code",
   "execution_count": 9,
   "id": "0797aea8",
   "metadata": {},
   "outputs": [
    {
     "data": {
      "text/plain": [
       "count    19056.000000\n",
       "mean       290.513696\n",
       "std       1149.664599\n",
       "min          1.000000\n",
       "25%          5.000000\n",
       "50%         20.000000\n",
       "75%         93.000000\n",
       "max      21198.000000\n",
       "Name: total_homes_sold, dtype: float64"
      ]
     },
     "execution_count": 9,
     "metadata": {},
     "output_type": "execute_result"
    }
   ],
   "source": [
    "df3.total_homes_sold.describe()"
   ]
  },
  {
   "cell_type": "code",
   "execution_count": 10,
   "id": "2766e453",
   "metadata": {},
   "outputs": [
    {
     "data": {
      "text/plain": [
       "count    1.905600e+04\n",
       "mean     2.588998e+05\n",
       "std      1.297152e+05\n",
       "min      6.950000e+02\n",
       "25%      1.850000e+05\n",
       "50%      2.441645e+05\n",
       "75%      3.153903e+05\n",
       "max      3.800000e+06\n",
       "Name: median_sale_price, dtype: float64"
      ]
     },
     "execution_count": 10,
     "metadata": {},
     "output_type": "execute_result"
    }
   ],
   "source": [
    "df3.median_sale_price.describe()"
   ]
  },
  {
   "cell_type": "code",
   "execution_count": 11,
   "id": "af15f9c3",
   "metadata": {},
   "outputs": [
    {
     "data": {
      "text/plain": [
       "count     19056.000000\n",
       "mean       4430.535422\n",
       "std       17146.102475\n",
       "min           1.000000\n",
       "25%         130.000000\n",
       "50%         470.000000\n",
       "75%        1903.000000\n",
       "max      313488.000000\n",
       "Name: total_active_listings, dtype: float64"
      ]
     },
     "execution_count": 11,
     "metadata": {},
     "output_type": "execute_result"
    }
   ],
   "source": [
    "df3.total_active_listings.describe()"
   ]
  },
  {
   "cell_type": "code",
   "execution_count": 12,
   "id": "429c986f",
   "metadata": {},
   "outputs": [
    {
     "data": {
      "text/plain": [
       "count    19056.000000\n",
       "mean         0.346367\n",
       "std          0.622925\n",
       "min         -0.833333\n",
       "25%          0.000000\n",
       "50%          0.218037\n",
       "75%          0.565217\n",
       "max         12.000000\n",
       "Name: inventory_yoy, dtype: float64"
      ]
     },
     "execution_count": 12,
     "metadata": {},
     "output_type": "execute_result"
    }
   ],
   "source": [
    "df3.inventory_yoy.describe()"
   ]
  },
  {
   "cell_type": "code",
   "execution_count": 13,
   "id": "438008de",
   "metadata": {},
   "outputs": [
    {
     "data": {
      "text/plain": [
       "count    11851.000000\n",
       "mean        57.766686\n",
       "std        110.947262\n",
       "min          1.000000\n",
       "25%          4.000000\n",
       "50%         14.000000\n",
       "75%         51.000000\n",
       "max        696.000000\n",
       "Name: total_homes_sold, dtype: float64"
      ]
     },
     "execution_count": 13,
     "metadata": {},
     "output_type": "execute_result"
    }
   ],
   "source": [
    "def remove_total_homes_outliers(df):\n",
    "    df_out = pd.DataFrame()\n",
    "    for key, subdf in df.groupby('region_name'):\n",
    "        m = np.mean(subdf.total_homes_sold)\n",
    "        st = np.std(subdf.total_homes_sold)\n",
    "        reduced_df = subdf[(subdf.total_homes_sold>(m-(st))) & (subdf.total_homes_sold<=(m+(st))) & (subdf.total_homes_sold<700)]\n",
    "        df_out = pd.concat([df_out,reduced_df],ignore_index=True)\n",
    "    return df_out\n",
    "\n",
    "df4 = remove_total_homes_outliers(df3)\n",
    "df4.total_homes_sold.describe()"
   ]
  },
  {
   "cell_type": "code",
   "execution_count": 14,
   "id": "89496c9f",
   "metadata": {},
   "outputs": [
    {
     "data": {
      "text/plain": [
       "count    1.185100e+04\n",
       "mean     2.516328e+05\n",
       "std      1.214087e+05\n",
       "min      2.300000e+04\n",
       "25%      1.799000e+05\n",
       "50%      2.373875e+05\n",
       "75%      3.031549e+05\n",
       "max      3.800000e+06\n",
       "Name: median_sale_price, dtype: float64"
      ]
     },
     "execution_count": 14,
     "metadata": {},
     "output_type": "execute_result"
    }
   ],
   "source": [
    "def remove_median_sale(df):\n",
    "    df_out = pd.DataFrame()\n",
    "    for key, subdf in df.groupby('region_name'):\n",
    "        m = np.mean(subdf.median_sale_price)\n",
    "        st = np.std(subdf.median_sale_price)\n",
    "        reduced_df = subdf[(subdf.median_sale_price>(m-(1.3*st))) & (subdf.median_sale_price<=(m+(1.3*st)))]\n",
    "        df_out = pd.concat([df_out,reduced_df],ignore_index=True)\n",
    "    return df_out\n",
    "\n",
    "df5 = remove_median_sale(df4)\n",
    "df4.median_sale_price.describe()"
   ]
  },
  {
   "cell_type": "code",
   "execution_count": 15,
   "id": "b97ce24c",
   "metadata": {},
   "outputs": [
    {
     "data": {
      "text/plain": [
       "count    7950.000000\n",
       "mean      637.824528\n",
       "std       949.249546\n",
       "min         1.000000\n",
       "25%        95.000000\n",
       "50%       249.000000\n",
       "75%       746.750000\n",
       "max      4995.000000\n",
       "Name: total_active_listings, dtype: float64"
      ]
     },
     "execution_count": 15,
     "metadata": {},
     "output_type": "execute_result"
    }
   ],
   "source": [
    "def remove_total_listings(df):\n",
    "    df_out = pd.DataFrame()\n",
    "    for key, subdf in df.groupby('region_name'):\n",
    "        m = np.mean(subdf.total_active_listings)\n",
    "        st = np.std(subdf.total_active_listings)\n",
    "        reduced_df = subdf[(subdf.total_active_listings>(m-(1.3*st))) & (subdf.total_active_listings<=(m+(1.3*st))) & (subdf.total_active_listings<5000)]\n",
    "        df_out = pd.concat([df_out,reduced_df],ignore_index=True)\n",
    "    return df_out\n",
    "\n",
    "df6 = remove_total_listings(df5)\n",
    "df6.total_active_listings.describe()"
   ]
  },
  {
   "cell_type": "code",
   "execution_count": 16,
   "id": "e9bd4b8c",
   "metadata": {},
   "outputs": [
    {
     "data": {
      "text/plain": [
       "count    6530.000000\n",
       "mean        0.250735\n",
       "std         0.439018\n",
       "min        -0.833333\n",
       "25%        -0.009259\n",
       "50%         0.180776\n",
       "75%         0.444093\n",
       "max         6.000000\n",
       "Name: inventory_yoy, dtype: float64"
      ]
     },
     "execution_count": 16,
     "metadata": {},
     "output_type": "execute_result"
    }
   ],
   "source": [
    "def remove_inventory(df):\n",
    "    df_out = pd.DataFrame()\n",
    "    for key, subdf in df.groupby('region_name'):\n",
    "        m = np.mean(subdf.inventory_yoy)\n",
    "        st = np.std(subdf.inventory_yoy)\n",
    "        reduced_df = subdf[(subdf.inventory_yoy>(m-(1.3*st))) & (subdf.inventory_yoy<=(m+(1.3*st)))]\n",
    "        df_out = pd.concat([df_out,reduced_df],ignore_index=True)\n",
    "    return df_out\n",
    "\n",
    "df7 = remove_inventory(df6)\n",
    "df7.inventory_yoy.describe()"
   ]
  },
  {
   "cell_type": "code",
   "execution_count": 17,
   "id": "0f606dbd",
   "metadata": {},
   "outputs": [],
   "source": [
    "def parse_date(df, features=[],drop_date=True):\n",
    "    for feat in features:\n",
    "        df[feat] = pd.to_datetime(df[feat])\n",
    "        df[f'{feat}_year'] = df[feat].dt.year\n",
    "        df[f'{feat}_month'] = df[feat].dt.month\n",
    "        df[f'{feat}_day'] = df[feat].dt.day\n",
    "        \n",
    "        if drop_date: df.drop(columns=[feat],inplace=True)\n",
    "        \n",
    "    return df"
   ]
  },
  {
   "cell_type": "code",
   "execution_count": 18,
   "id": "d646d516",
   "metadata": {},
   "outputs": [],
   "source": [
    "df8 = df7.copy()\n",
    "df8 = parse_date(df8,features=['period_end'])"
   ]
  },
  {
   "cell_type": "code",
   "execution_count": 19,
   "id": "bd86f321",
   "metadata": {},
   "outputs": [
    {
     "data": {
      "text/plain": [
       "(6530, 9)"
      ]
     },
     "execution_count": 19,
     "metadata": {},
     "output_type": "execute_result"
    }
   ],
   "source": [
    "df8.shape"
   ]
  },
  {
   "cell_type": "code",
   "execution_count": 20,
   "id": "3186153a",
   "metadata": {},
   "outputs": [
    {
     "data": {
      "text/plain": [
       "count    6530.000000\n",
       "mean      139.298992\n",
       "std        54.257253\n",
       "min         9.488889\n",
       "25%       106.563941\n",
       "50%       135.245025\n",
       "75%       166.684657\n",
       "max       718.970897\n",
       "Name: median_sale_ppsf, dtype: float64"
      ]
     },
     "execution_count": 20,
     "metadata": {},
     "output_type": "execute_result"
    }
   ],
   "source": [
    "df8.median_sale_ppsf.describe()"
   ]
  },
  {
   "cell_type": "code",
   "execution_count": 21,
   "id": "155748a1",
   "metadata": {},
   "outputs": [
    {
     "data": {
      "text/plain": [
       "count    5727.000000\n",
       "mean      137.871835\n",
       "std        49.773986\n",
       "min        12.686156\n",
       "25%       107.366086\n",
       "50%       134.505015\n",
       "75%       164.684559\n",
       "max       651.953414\n",
       "Name: median_sale_ppsf, dtype: float64"
      ]
     },
     "execution_count": 21,
     "metadata": {},
     "output_type": "execute_result"
    }
   ],
   "source": [
    "def remove_ppsf_outliers(df):\n",
    "    df_out = pd.DataFrame()\n",
    "    for key, subdf in df.groupby('region_name'):\n",
    "        m = np.mean(subdf.median_sale_ppsf)\n",
    "        st = np.std(subdf.median_sale_ppsf)\n",
    "        reduced_df = subdf[(subdf.median_sale_ppsf>(m-(1.5*st))) & (subdf.median_sale_ppsf<=(m+(1.5*st)))]\n",
    "        df_out = pd.concat([df_out,reduced_df],ignore_index=True)\n",
    "    return df_out\n",
    "\n",
    "df9 = remove_ppsf_outliers(df8)\n",
    "df9.median_sale_ppsf.describe()"
   ]
  },
  {
   "cell_type": "code",
   "execution_count": 22,
   "id": "a56d065d",
   "metadata": {},
   "outputs": [
    {
     "data": {
      "text/html": [
       "<div>\n",
       "<style scoped>\n",
       "    .dataframe tbody tr th:only-of-type {\n",
       "        vertical-align: middle;\n",
       "    }\n",
       "\n",
       "    .dataframe tbody tr th {\n",
       "        vertical-align: top;\n",
       "    }\n",
       "\n",
       "    .dataframe thead th {\n",
       "        text-align: right;\n",
       "    }\n",
       "</style>\n",
       "<table border=\"1\" class=\"dataframe\">\n",
       "  <thead>\n",
       "    <tr style=\"text-align: right;\">\n",
       "      <th></th>\n",
       "      <th>Abilene, TX metro area</th>\n",
       "      <th>Alice, TX metro area</th>\n",
       "      <th>Anderson County, TX</th>\n",
       "      <th>Andrews County, TX</th>\n",
       "      <th>Angelina County, TX</th>\n",
       "      <th>Aransas County, TX</th>\n",
       "      <th>Athens, TX metro area</th>\n",
       "      <th>Austin County, TX</th>\n",
       "      <th>Bandera County, TX</th>\n",
       "      <th>Beaumont, TX metro area</th>\n",
       "      <th>...</th>\n",
       "      <th>Uvalde County, TX</th>\n",
       "      <th>Uvalde, TX metro area</th>\n",
       "      <th>Victoria, TX metro area</th>\n",
       "      <th>Walker County, TX</th>\n",
       "      <th>Waller County, TX</th>\n",
       "      <th>Ward County, TX</th>\n",
       "      <th>Washington County, TX</th>\n",
       "      <th>Williamson County, TX</th>\n",
       "      <th>Wise County, TX</th>\n",
       "      <th>Young County, TX</th>\n",
       "    </tr>\n",
       "  </thead>\n",
       "  <tbody>\n",
       "    <tr>\n",
       "      <th>0</th>\n",
       "      <td>1</td>\n",
       "      <td>0</td>\n",
       "      <td>0</td>\n",
       "      <td>0</td>\n",
       "      <td>0</td>\n",
       "      <td>0</td>\n",
       "      <td>0</td>\n",
       "      <td>0</td>\n",
       "      <td>0</td>\n",
       "      <td>0</td>\n",
       "      <td>...</td>\n",
       "      <td>0</td>\n",
       "      <td>0</td>\n",
       "      <td>0</td>\n",
       "      <td>0</td>\n",
       "      <td>0</td>\n",
       "      <td>0</td>\n",
       "      <td>0</td>\n",
       "      <td>0</td>\n",
       "      <td>0</td>\n",
       "      <td>0</td>\n",
       "    </tr>\n",
       "    <tr>\n",
       "      <th>1</th>\n",
       "      <td>1</td>\n",
       "      <td>0</td>\n",
       "      <td>0</td>\n",
       "      <td>0</td>\n",
       "      <td>0</td>\n",
       "      <td>0</td>\n",
       "      <td>0</td>\n",
       "      <td>0</td>\n",
       "      <td>0</td>\n",
       "      <td>0</td>\n",
       "      <td>...</td>\n",
       "      <td>0</td>\n",
       "      <td>0</td>\n",
       "      <td>0</td>\n",
       "      <td>0</td>\n",
       "      <td>0</td>\n",
       "      <td>0</td>\n",
       "      <td>0</td>\n",
       "      <td>0</td>\n",
       "      <td>0</td>\n",
       "      <td>0</td>\n",
       "    </tr>\n",
       "    <tr>\n",
       "      <th>2</th>\n",
       "      <td>1</td>\n",
       "      <td>0</td>\n",
       "      <td>0</td>\n",
       "      <td>0</td>\n",
       "      <td>0</td>\n",
       "      <td>0</td>\n",
       "      <td>0</td>\n",
       "      <td>0</td>\n",
       "      <td>0</td>\n",
       "      <td>0</td>\n",
       "      <td>...</td>\n",
       "      <td>0</td>\n",
       "      <td>0</td>\n",
       "      <td>0</td>\n",
       "      <td>0</td>\n",
       "      <td>0</td>\n",
       "      <td>0</td>\n",
       "      <td>0</td>\n",
       "      <td>0</td>\n",
       "      <td>0</td>\n",
       "      <td>0</td>\n",
       "    </tr>\n",
       "  </tbody>\n",
       "</table>\n",
       "<p>3 rows × 153 columns</p>\n",
       "</div>"
      ],
      "text/plain": [
       "   Abilene, TX metro area  Alice, TX metro area  Anderson County, TX  \\\n",
       "0                       1                     0                    0   \n",
       "1                       1                     0                    0   \n",
       "2                       1                     0                    0   \n",
       "\n",
       "   Andrews County, TX  Angelina County, TX  Aransas County, TX  \\\n",
       "0                   0                    0                   0   \n",
       "1                   0                    0                   0   \n",
       "2                   0                    0                   0   \n",
       "\n",
       "   Athens, TX metro area  Austin County, TX  Bandera County, TX  \\\n",
       "0                      0                  0                   0   \n",
       "1                      0                  0                   0   \n",
       "2                      0                  0                   0   \n",
       "\n",
       "   Beaumont, TX metro area  ...  Uvalde County, TX  Uvalde, TX metro area  \\\n",
       "0                        0  ...                  0                      0   \n",
       "1                        0  ...                  0                      0   \n",
       "2                        0  ...                  0                      0   \n",
       "\n",
       "   Victoria, TX metro area  Walker County, TX  Waller County, TX  \\\n",
       "0                        0                  0                  0   \n",
       "1                        0                  0                  0   \n",
       "2                        0                  0                  0   \n",
       "\n",
       "   Ward County, TX  Washington County, TX  Williamson County, TX  \\\n",
       "0                0                      0                      0   \n",
       "1                0                      0                      0   \n",
       "2                0                      0                      0   \n",
       "\n",
       "   Wise County, TX  Young County, TX  \n",
       "0                0                 0  \n",
       "1                0                 0  \n",
       "2                0                 0  \n",
       "\n",
       "[3 rows x 153 columns]"
      ]
     },
     "execution_count": 22,
     "metadata": {},
     "output_type": "execute_result"
    }
   ],
   "source": [
    "dummies = pd.get_dummies(df9.region_name)\n",
    "dummies.head(3)"
   ]
  },
  {
   "cell_type": "code",
   "execution_count": 23,
   "id": "f4449e01",
   "metadata": {},
   "outputs": [],
   "source": [
    "df10 = pd.concat([df9,dummies.drop('Young County, TX',axis='columns')],axis='columns')\n",
    "df11 = df10.drop(['region_name','period_end_month','period_end_day'],axis='columns')"
   ]
  },
  {
   "cell_type": "code",
   "execution_count": 24,
   "id": "6b3227ce",
   "metadata": {},
   "outputs": [],
   "source": [
    "columns = df10.copy()\n",
    "x = df11.drop(['total_homes_sold'],axis='columns')"
   ]
  },
  {
   "cell_type": "code",
   "execution_count": 25,
   "id": "4fc057c8",
   "metadata": {},
   "outputs": [
    {
     "data": {
      "text/plain": [
       "0    140.0\n",
       "1     31.0\n",
       "2    125.0\n",
       "3    189.0\n",
       "4     90.0\n",
       "Name: total_homes_sold, dtype: float64"
      ]
     },
     "execution_count": 25,
     "metadata": {},
     "output_type": "execute_result"
    }
   ],
   "source": [
    "y = df11.total_homes_sold\n",
    "y.head()"
   ]
  },
  {
   "cell_type": "code",
   "execution_count": 26,
   "id": "8e6e3544",
   "metadata": {},
   "outputs": [],
   "source": [
    "from sklearn.model_selection import train_test_split\n",
    "x_train, x_test, y_train, y_test = train_test_split(x,y,test_size=0.23,random_state=42)"
   ]
  },
  {
   "cell_type": "code",
   "execution_count": 27,
   "id": "44d5688d",
   "metadata": {},
   "outputs": [
    {
     "data": {
      "text/plain": [
       "0.9237474674513222"
      ]
     },
     "execution_count": 27,
     "metadata": {},
     "output_type": "execute_result"
    }
   ],
   "source": [
    "from sklearn.linear_model import LinearRegression\n",
    "lr_clf = LinearRegression()\n",
    "lr_clf.fit(x_train.values,y_train)\n",
    "lr_clf.score(x_test.values,y_test)"
   ]
  },
  {
   "cell_type": "code",
   "execution_count": 28,
   "id": "cf331c20",
   "metadata": {},
   "outputs": [],
   "source": [
    "def get_derived_parameters(region_name, df):\n",
    "    region_data = df[df['region_name'] == region_name]\n",
    "    \n",
    "    median_sale_ppsf = region_data['median_sale_ppsf'].median()\n",
    "    total_active_listings = region_data['total_active_listings'].median()\n",
    "    inventory_yoy = region_data['inventory_yoy'].median()\n",
    "    period_end_year = region_data['period_end_year'].median()\n",
    "    \n",
    "    return median_sale_ppsf, total_active_listings, inventory_yoy, int(period_end_year)"
   ]
  },
  {
   "cell_type": "code",
   "execution_count": 41,
   "id": "38f4b7fc",
   "metadata": {},
   "outputs": [],
   "source": [
    "def predict_total_homes(region_name,median_price):\n",
    "    try:\n",
    "        loc_index = np.where(x.columns==region_name)[0][0]\n",
    "    except:\n",
    "        loc_index = -1\n",
    "    \n",
    "    region_data = df11[df10['region_name'] == region_name]\n",
    "    \n",
    "    median_sale_ppsf = region_data['median_sale_ppsf'].median()\n",
    "    total_active_listings = region_data['total_active_listings'].median()\n",
    "    inventory_yoy = region_data['inventory_yoy'].median()\n",
    "    period_end_year = region_data['period_end_year'].median()\n",
    "    \n",
    "    X = np.zeros(len(x.columns))\n",
    "    X[0] = median_price\n",
    "    X[1] = median_sale_ppsf\n",
    "    X[2] = total_active_listings\n",
    "    X[3] = inventory_yoy\n",
    "    X[4] = period_end_year\n",
    "    if loc_index >= 0:\n",
    "        X[loc_index] = 1\n",
    "        \n",
    "    return (round(lr_clf.predict([X])[0],0))\n",
    "    "
   ]
  },
  {
   "cell_type": "code",
   "execution_count": 43,
   "id": "77e4b191",
   "metadata": {},
   "outputs": [
    {
     "data": {
      "text/plain": [
       "5.0"
      ]
     },
     "execution_count": 43,
     "metadata": {},
     "output_type": "execute_result"
    }
   ],
   "source": [
    "#Here is where we can input values and get an actual prediction\n",
    "#The first parameter is the county that we want to estimate from\n",
    "#The second parameter is the median sale price of homes that will be sold\n",
    "\n",
    "predict_total_homes(\"Crosby County, TX\", 100000)"
   ]
  },
  {
   "cell_type": "code",
   "execution_count": null,
   "id": "24f64e66",
   "metadata": {},
   "outputs": [],
   "source": []
  },
  {
   "cell_type": "code",
   "execution_count": null,
   "id": "b30c7478",
   "metadata": {},
   "outputs": [],
   "source": []
  },
  {
   "cell_type": "code",
   "execution_count": null,
   "id": "fbcb7e45",
   "metadata": {},
   "outputs": [],
   "source": []
  }
 ],
 "metadata": {
  "celltoolbar": "Raw Cell Format",
  "kernelspec": {
   "display_name": "Python 3 (ipykernel)",
   "language": "python",
   "name": "python3"
  },
  "language_info": {
   "codemirror_mode": {
    "name": "ipython",
    "version": 3
   },
   "file_extension": ".py",
   "mimetype": "text/x-python",
   "name": "python",
   "nbconvert_exporter": "python",
   "pygments_lexer": "ipython3",
   "version": "3.9.12"
  }
 },
 "nbformat": 4,
 "nbformat_minor": 5
}
